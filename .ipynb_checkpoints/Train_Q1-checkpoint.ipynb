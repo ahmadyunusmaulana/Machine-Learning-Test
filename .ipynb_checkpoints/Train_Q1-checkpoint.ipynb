{
 "cells": [
  {
   "cell_type": "code",
   "execution_count": 1,
   "id": "f3374091",
   "metadata": {},
   "outputs": [
    {
     "ename": "ModuleNotFoundError",
     "evalue": "No module named 'seaborn'",
     "output_type": "error",
     "traceback": [
      "\u001b[1;31m---------------------------------------------------------------------------\u001b[0m",
      "\u001b[1;31mModuleNotFoundError\u001b[0m                       Traceback (most recent call last)",
      "\u001b[1;32mC:\\Users\\TEST-L~1\\AppData\\Local\\Temp/ipykernel_18160/701188817.py\u001b[0m in \u001b[0;36m<module>\u001b[1;34m\u001b[0m\n\u001b[0;32m      3\u001b[0m \u001b[1;32mimport\u001b[0m \u001b[0mmatplotlib\u001b[0m\u001b[1;33m.\u001b[0m\u001b[0mpyplot\u001b[0m \u001b[1;32mas\u001b[0m \u001b[0mplt\u001b[0m\u001b[1;33m\u001b[0m\u001b[1;33m\u001b[0m\u001b[0m\n\u001b[0;32m      4\u001b[0m \u001b[0mget_ipython\u001b[0m\u001b[1;33m(\u001b[0m\u001b[1;33m)\u001b[0m\u001b[1;33m.\u001b[0m\u001b[0mrun_line_magic\u001b[0m\u001b[1;33m(\u001b[0m\u001b[1;34m'matplotlib'\u001b[0m\u001b[1;33m,\u001b[0m \u001b[1;34m'inline'\u001b[0m\u001b[1;33m)\u001b[0m\u001b[1;33m\u001b[0m\u001b[1;33m\u001b[0m\u001b[0m\n\u001b[1;32m----> 5\u001b[1;33m \u001b[1;32mimport\u001b[0m \u001b[0mseaborn\u001b[0m \u001b[1;32mas\u001b[0m \u001b[0msns\u001b[0m\u001b[1;33m\u001b[0m\u001b[1;33m\u001b[0m\u001b[0m\n\u001b[0m\u001b[0;32m      6\u001b[0m \u001b[1;31m#import models from scikit learn module:\u001b[0m\u001b[1;33m\u001b[0m\u001b[1;33m\u001b[0m\u001b[0m\n\u001b[0;32m      7\u001b[0m \u001b[1;32mfrom\u001b[0m \u001b[0msklearn\u001b[0m\u001b[1;33m.\u001b[0m\u001b[0mmodel_selection\u001b[0m \u001b[1;32mimport\u001b[0m \u001b[0mtrain_test_split\u001b[0m\u001b[1;33m\u001b[0m\u001b[1;33m\u001b[0m\u001b[0m\n",
      "\u001b[1;31mModuleNotFoundError\u001b[0m: No module named 'seaborn'"
     ]
    }
   ],
   "source": [
    "import numpy as np\n",
    "import pandas as pd\n",
    "import matplotlib.pyplot as plt\n",
    "%matplotlib inline\n",
    "import seaborn as sns\n",
    "#import models from scikit learn module:\n",
    "from sklearn.model_selection import train_test_split\n",
    "from sklearn import metrics\n",
    "from sklearn.svm import SVC"
   ]
  },
  {
   "cell_type": "code",
   "execution_count": 4,
   "id": "f23d8820",
   "metadata": {},
   "outputs": [
    {
     "name": "stdout",
     "output_type": "stream",
     "text": [
      "              Timestamp  CHP1Temp1(Deg C)  CHP1Temp2(Deg C)  CHP2Temp1(Deg C)  \\\n",
      "0        3/10/2018 0:00         39.370909         38.637728         40.846605   \n",
      "1        3/10/2018 0:00         39.390616         38.651286         40.884015   \n",
      "2        3/10/2018 0:00         39.403041         38.659552         40.926061   \n",
      "3        3/10/2018 0:00         39.420096         38.677405         40.966947   \n",
      "4        3/10/2018 0:00         39.430529         38.678065         41.008001   \n",
      "...                 ...               ...               ...               ...   \n",
      "13842  10/17/2018 15:31         39.781958         39.366774         35.699109   \n",
      "13843  10/17/2018 15:32         39.628272         39.461169         35.665838   \n",
      "13844  10/17/2018 15:32         39.612208         39.890494         35.971746   \n",
      "13845  10/17/2018 15:45         39.822699         39.725013         35.558900   \n",
      "13846  10/17/2018 15:45         39.552752         40.011008         35.570325   \n",
      "\n",
      "       CHP2Temp2(Deg C)  CHP1Vib1(mm/s)  CHP1Vib2(mm/s)  CHP2Vib1(mm/s)  \\\n",
      "0             39.782834        0.060756        0.066139        0.087974   \n",
      "1             39.805669        0.070343        0.064768        0.094204   \n",
      "2             39.817418        0.053073        0.053162        0.085925   \n",
      "3             39.839593        0.059945        0.061724        0.088830   \n",
      "4             39.849687        0.072104        0.060607        0.089137   \n",
      "...                 ...             ...             ...             ...   \n",
      "13842         34.977640        1.487568        1.888282        1.005966   \n",
      "13843         35.052602        1.489291        1.752119        1.001954   \n",
      "13844         34.636423        1.482300        1.850078        1.018153   \n",
      "13845         34.845422        1.528402        1.937668        0.818741   \n",
      "13846         35.247537        1.521452        1.864466        0.813967   \n",
      "\n",
      "       CHP2Vib2(mm/s)  Fault  \n",
      "0            0.097370      0  \n",
      "1            0.111891      0  \n",
      "2            0.088741      0  \n",
      "3            0.100587      0  \n",
      "4            0.106438      0  \n",
      "...               ...    ...  \n",
      "13842        1.792363      1  \n",
      "13843        1.742410      1  \n",
      "13844        1.804849      1  \n",
      "13845        1.351930      1  \n",
      "13846        1.312562      1  \n",
      "\n",
      "[13847 rows x 10 columns]\n"
     ]
    }
   ],
   "source": [
    "df = pd.read_csv (r'Q1.csv')\n",
    "print(df)"
   ]
  },
  {
   "cell_type": "code",
   "execution_count": null,
   "id": "8f444780",
   "metadata": {},
   "outputs": [],
   "source": []
  }
 ],
 "metadata": {
  "kernelspec": {
   "display_name": "Python 3 (ipykernel)",
   "language": "python",
   "name": "python3"
  },
  "language_info": {
   "codemirror_mode": {
    "name": "ipython",
    "version": 3
   },
   "file_extension": ".py",
   "mimetype": "text/x-python",
   "name": "python",
   "nbconvert_exporter": "python",
   "pygments_lexer": "ipython3",
   "version": "3.9.7"
  }
 },
 "nbformat": 4,
 "nbformat_minor": 5
}
